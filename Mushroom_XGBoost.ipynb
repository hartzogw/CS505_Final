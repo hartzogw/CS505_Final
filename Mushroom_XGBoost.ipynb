{
 "cells": [
  {
   "cell_type": "code",
   "execution_count": 28,
   "metadata": {
    "id": "3ZpPjAcGlYmP"
   },
   "outputs": [],
   "source": [
    "import pandas as pd\n",
    "import numpy as np\n",
    "from sklearn.model_selection import train_test_split\n",
    "from sklearn.preprocessing import LabelEncoder\n",
    "from sklearn.metrics import accuracy_score, classification_report, roc_auc_score\n",
    "import xgboost as xgb\n",
    "import matplotlib.pyplot as plt\n",
    "import datetime as datetime"
   ]
  },
  {
   "cell_type": "code",
   "execution_count": 2,
   "metadata": {
    "colab": {
     "base_uri": "https://localhost:8080/",
     "height": 339
    },
    "id": "sqDUJ8Ktl39N",
    "outputId": "1c9adfef-06c5-44b7-e895-dfd81477a2f1"
   },
   "outputs": [],
   "source": [
    "# Load the data\n",
    "traincsvFile = pd.read_csv('train.csv')\n",
    "# Preprocessing\n",
    "string_columns = traincsvFile.select_dtypes(include=['object']).columns"
   ]
  },
  {
   "cell_type": "code",
   "execution_count": 3,
   "metadata": {
    "id": "3FlQhvxbl8XW"
   },
   "outputs": [],
   "source": [
    "# Encoding\n",
    "for column in string_columns:\n",
    "    unique_strings = traincsvFile[column].unique()\n",
    "    string_to_index = {string: index for index, string in enumerate(unique_strings)}\n",
    "    traincsvFile[column] = traincsvFile[column].map(string_to_index)\n",
    "\n",
    "# Keeping only most important features\n",
    "X = traincsvFile.drop(columns=['id', 'class', 'stem-root', 'has-ring', 'cap-shape', 'stem-surface',\n",
    "                               'habitat', 'ring-type', 'season', 'veil-color', 'veil-type', 'spore-print-color'])\n",
    "Y = traincsvFile['class']\n",
    "\n",
    "# Encoding labels that aren't numbers\n",
    "if Y.dtype == 'object':\n",
    "    le = LabelEncoder()\n",
    "    Y = le.fit_transform(Y)"
   ]
  },
  {
   "cell_type": "code",
   "execution_count": 5,
   "metadata": {
    "id": "WpjJhLFXl-kD"
   },
   "outputs": [],
   "source": [
    "# Split\n",
    "train_split = int(0.5 * Y.size)\n",
    "val_split = int(0.75 * Y.size)\n",
    "\n",
    "X_train = X[:train_split]\n",
    "Y_train = Y[:train_split]\n",
    "\n",
    "X_val = X[train_split:val_split]\n",
    "Y_val = Y[train_split:val_split]\n",
    "\n",
    "X_test = X[val_split:]\n",
    "Y_test = Y[val_split:]"
   ]
  },
  {
   "cell_type": "code",
   "execution_count": 6,
   "metadata": {
    "colab": {
     "base_uri": "https://localhost:8080/"
    },
    "id": "9jQVOfX7mAjv",
    "outputId": "b910b8a4-3749-4aa9-8b45-dab237eeeba2"
   },
   "outputs": [
    {
     "name": "stdout",
     "output_type": "stream",
     "text": [
      "Items in training set: 1558472\n",
      "Items in validation set: 779236\n",
      "Items in test set: 779237\n"
     ]
    }
   ],
   "source": [
    "# Normalization\n",
    "x_train_mean = X_train.mean(axis=0)\n",
    "x_train_std = X_train.std(axis=0)\n",
    "\n",
    "X_train = (X_train - x_train_mean) / x_train_std\n",
    "X_val = (X_val - x_train_mean) / x_train_std\n",
    "X_test = (X_test - x_train_mean) / x_train_std\n",
    "\n",
    "print(\"Items in training set:\", len(X_train))\n",
    "\n",
    "print(\"Items in validation set:\", len(X_val))\n",
    "\n",
    "print(\"Items in test set:\", len(X_test))"
   ]
  },
  {
   "cell_type": "code",
   "execution_count": 7,
   "metadata": {
    "colab": {
     "base_uri": "https://localhost:8080/"
    },
    "id": "0gZ1plzmmEhF",
    "outputId": "b32bcac0-84da-4fff-b179-60217225b9db"
   },
   "outputs": [
    {
     "name": "stdout",
     "output_type": "stream",
     "text": [
      "[0]\ttrain-logloss:0.64378\teval-logloss:0.64405\n",
      "[1]\ttrain-logloss:0.60657\teval-logloss:0.60695\n",
      "[2]\ttrain-logloss:0.57294\teval-logloss:0.57336\n",
      "[3]\ttrain-logloss:0.53415\teval-logloss:0.53456\n",
      "[4]\ttrain-logloss:0.51187\teval-logloss:0.51233\n",
      "[5]\ttrain-logloss:0.49289\teval-logloss:0.49339\n",
      "[6]\ttrain-logloss:0.46593\teval-logloss:0.46645\n",
      "[7]\ttrain-logloss:0.44381\teval-logloss:0.44432\n",
      "[8]\ttrain-logloss:0.42058\teval-logloss:0.42105\n",
      "[9]\ttrain-logloss:0.40234\teval-logloss:0.40280\n",
      "[10]\ttrain-logloss:0.38600\teval-logloss:0.38645\n",
      "[11]\ttrain-logloss:0.36827\teval-logloss:0.36868\n",
      "[12]\ttrain-logloss:0.35434\teval-logloss:0.35481\n",
      "[13]\ttrain-logloss:0.34102\teval-logloss:0.34149\n",
      "[14]\ttrain-logloss:0.32937\teval-logloss:0.32993\n",
      "[15]\ttrain-logloss:0.31754\teval-logloss:0.31812\n",
      "[16]\ttrain-logloss:0.30642\teval-logloss:0.30702\n",
      "[17]\ttrain-logloss:0.29831\teval-logloss:0.29896\n",
      "[18]\ttrain-logloss:0.28839\teval-logloss:0.28907\n",
      "[19]\ttrain-logloss:0.27946\teval-logloss:0.28017\n",
      "[20]\ttrain-logloss:0.27193\teval-logloss:0.27268\n",
      "[21]\ttrain-logloss:0.26140\teval-logloss:0.26212\n",
      "[22]\ttrain-logloss:0.25466\teval-logloss:0.25535\n",
      "[23]\ttrain-logloss:0.24792\teval-logloss:0.24862\n",
      "[24]\ttrain-logloss:0.24331\teval-logloss:0.24401\n",
      "[25]\ttrain-logloss:0.23783\teval-logloss:0.23848\n",
      "[26]\ttrain-logloss:0.23352\teval-logloss:0.23417\n",
      "[27]\ttrain-logloss:0.22804\teval-logloss:0.22868\n",
      "[28]\ttrain-logloss:0.22516\teval-logloss:0.22580\n",
      "[29]\ttrain-logloss:0.22021\teval-logloss:0.22083\n",
      "[30]\ttrain-logloss:0.21684\teval-logloss:0.21745\n",
      "[31]\ttrain-logloss:0.21282\teval-logloss:0.21341\n",
      "[32]\ttrain-logloss:0.20932\teval-logloss:0.20990\n",
      "[33]\ttrain-logloss:0.20587\teval-logloss:0.20648\n",
      "[34]\ttrain-logloss:0.20208\teval-logloss:0.20267\n",
      "[35]\ttrain-logloss:0.19643\teval-logloss:0.19700\n",
      "[36]\ttrain-logloss:0.19323\teval-logloss:0.19381\n",
      "[37]\ttrain-logloss:0.19165\teval-logloss:0.19223\n",
      "[38]\ttrain-logloss:0.18630\teval-logloss:0.18687\n",
      "[39]\ttrain-logloss:0.18244\teval-logloss:0.18302\n",
      "[40]\ttrain-logloss:0.17953\teval-logloss:0.18012\n",
      "[41]\ttrain-logloss:0.17807\teval-logloss:0.17866\n",
      "[42]\ttrain-logloss:0.17279\teval-logloss:0.17339\n",
      "[43]\ttrain-logloss:0.17072\teval-logloss:0.17132\n",
      "[44]\ttrain-logloss:0.16777\teval-logloss:0.16836\n",
      "[45]\ttrain-logloss:0.16697\teval-logloss:0.16756\n",
      "[46]\ttrain-logloss:0.16443\teval-logloss:0.16502\n",
      "[47]\ttrain-logloss:0.16378\teval-logloss:0.16437\n",
      "[48]\ttrain-logloss:0.16284\teval-logloss:0.16342\n",
      "[49]\ttrain-logloss:0.16074\teval-logloss:0.16132\n",
      "[50]\ttrain-logloss:0.15955\teval-logloss:0.16014\n",
      "[51]\ttrain-logloss:0.15865\teval-logloss:0.15923\n",
      "[52]\ttrain-logloss:0.15685\teval-logloss:0.15743\n",
      "[53]\ttrain-logloss:0.15446\teval-logloss:0.15505\n",
      "[54]\ttrain-logloss:0.15342\teval-logloss:0.15401\n",
      "[55]\ttrain-logloss:0.15198\teval-logloss:0.15257\n",
      "[56]\ttrain-logloss:0.14692\teval-logloss:0.14750\n",
      "[57]\ttrain-logloss:0.14481\teval-logloss:0.14538\n",
      "[58]\ttrain-logloss:0.14148\teval-logloss:0.14204\n",
      "[59]\ttrain-logloss:0.14068\teval-logloss:0.14123\n",
      "[60]\ttrain-logloss:0.14003\teval-logloss:0.14059\n",
      "[61]\ttrain-logloss:0.13878\teval-logloss:0.13935\n",
      "[62]\ttrain-logloss:0.13834\teval-logloss:0.13891\n",
      "[63]\ttrain-logloss:0.13518\teval-logloss:0.13575\n",
      "[64]\ttrain-logloss:0.13217\teval-logloss:0.13275\n",
      "[65]\ttrain-logloss:0.12930\teval-logloss:0.12989\n",
      "[66]\ttrain-logloss:0.12799\teval-logloss:0.12860\n",
      "[67]\ttrain-logloss:0.12741\teval-logloss:0.12801\n",
      "[68]\ttrain-logloss:0.12501\teval-logloss:0.12560\n",
      "[69]\ttrain-logloss:0.12359\teval-logloss:0.12420\n",
      "[70]\ttrain-logloss:0.12297\teval-logloss:0.12359\n",
      "[71]\ttrain-logloss:0.12139\teval-logloss:0.12201\n",
      "[72]\ttrain-logloss:0.11950\teval-logloss:0.12014\n",
      "[73]\ttrain-logloss:0.11925\teval-logloss:0.11990\n",
      "[74]\ttrain-logloss:0.11801\teval-logloss:0.11866\n",
      "[75]\ttrain-logloss:0.11746\teval-logloss:0.11811\n",
      "[76]\ttrain-logloss:0.11506\teval-logloss:0.11572\n",
      "[77]\ttrain-logloss:0.11401\teval-logloss:0.11468\n",
      "[78]\ttrain-logloss:0.11361\teval-logloss:0.11428\n",
      "[79]\ttrain-logloss:0.11328\teval-logloss:0.11394\n",
      "[80]\ttrain-logloss:0.11122\teval-logloss:0.11188\n",
      "[81]\ttrain-logloss:0.11039\teval-logloss:0.11107\n",
      "[82]\ttrain-logloss:0.10917\teval-logloss:0.10986\n",
      "[83]\ttrain-logloss:0.10835\teval-logloss:0.10904\n",
      "[84]\ttrain-logloss:0.10786\teval-logloss:0.10856\n",
      "[85]\ttrain-logloss:0.10736\teval-logloss:0.10807\n",
      "[86]\ttrain-logloss:0.10702\teval-logloss:0.10774\n",
      "[87]\ttrain-logloss:0.10656\teval-logloss:0.10727\n",
      "[88]\ttrain-logloss:0.10534\teval-logloss:0.10606\n",
      "[89]\ttrain-logloss:0.10522\teval-logloss:0.10594\n",
      "[90]\ttrain-logloss:0.10259\teval-logloss:0.10332\n",
      "[91]\ttrain-logloss:0.10191\teval-logloss:0.10263\n",
      "[92]\ttrain-logloss:0.10103\teval-logloss:0.10177\n",
      "[93]\ttrain-logloss:0.09847\teval-logloss:0.09922\n",
      "[94]\ttrain-logloss:0.09787\teval-logloss:0.09861\n",
      "[95]\ttrain-logloss:0.09579\teval-logloss:0.09656\n",
      "[96]\ttrain-logloss:0.09542\teval-logloss:0.09620\n",
      "[97]\ttrain-logloss:0.09496\teval-logloss:0.09574\n",
      "[98]\ttrain-logloss:0.09306\teval-logloss:0.09385\n",
      "[99]\ttrain-logloss:0.09246\teval-logloss:0.09326\n"
     ]
    }
   ],
   "source": [
    "# XGBoost model data splits\n",
    "dtrain = xgb.DMatrix(X_train, label=Y_train)\n",
    "dval = xgb.DMatrix(X_val, label=Y_val)\n",
    "dtest = xgb.DMatrix(X_test, label=Y_test)\n",
    "\n",
    "# Define XGBoost model\n",
    "params = {\n",
    "    'max_depth': 6,\n",
    "    'eta': 0.1,\n",
    "    'objective': 'binary:logistic',\n",
    "    'eval_metric': 'logloss',\n",
    "    'seed': 42\n",
    "}\n",
    "\n",
    "# Train the model\n",
    "# 100 iterations, early stopping set to 10 rounds\n",
    "evals = [(dtrain, 'train'), (dval, 'eval')]\n",
    "bst = xgb.train(\n",
    "    params, dtrain,\n",
    "    num_boost_round=100,\n",
    "    evals=evals,\n",
    "    early_stopping_rounds=10,\n",
    "    verbose_eval=True\n",
    ")"
   ]
  },
  {
   "cell_type": "code",
   "execution_count": 8,
   "metadata": {
    "colab": {
     "base_uri": "https://localhost:8080/",
     "height": 680
    },
    "id": "Cp19UW33mHnB",
    "outputId": "48c6da60-cb86-4dca-8abb-daff18eca76d"
   },
   "outputs": [
    {
     "name": "stdout",
     "output_type": "stream",
     "text": [
      "Accuracy: 0.9812\n",
      "ROC-AUC: 0.9946\n",
      "Classification Report:\n",
      "              precision    recall  f1-score   support\n",
      "\n",
      "           0       0.98      0.98      0.98    352584\n",
      "           1       0.98      0.98      0.98    426653\n",
      "\n",
      "    accuracy                           0.98    779237\n",
      "   macro avg       0.98      0.98      0.98    779237\n",
      "weighted avg       0.98      0.98      0.98    779237\n",
      "\n"
     ]
    },
    {
     "data": {
      "image/png": "[encoded data removed]",
      "text/plain": [
       "<Figure size 640x480 with 1 Axes>"
      ]
     },
     "metadata": {},
     "output_type": "display_data"
    }
   ],
   "source": [
    "# Predictions on test set\n",
    "y_pred_prob = bst.predict(dtest)\n",
    "y_pred = (y_pred_prob > 0.5).astype(int)\n",
    "\n",
    "# Evaluate metrics\n",
    "accuracy = accuracy_score(Y_test, y_pred)\n",
    "roc_auc = roc_auc_score(Y_test, y_pred_prob)\n",
    "\n",
    "print(f\"Accuracy: {accuracy:.4f}\")\n",
    "print(f\"ROC-AUC: {roc_auc:.4f}\")\n",
    "print(\"Classification Report:\")\n",
    "print(classification_report(Y_test, y_pred))\n",
    "\n",
    "# Feature importance\n",
    "xgb.plot_importance(bst, max_num_features=10)\n",
    "plt.title(\"Top 10 Feature Importances\")\n",
    "plt.show()"
   ]
  },
  {
   "cell_type": "code",
   "execution_count": 9,
   "metadata": {
    "id": "9xzxfF34mJ7r"
   },
   "outputs": [],
   "source": [
    "# Load the Kaggle test dataset\n",
    "new_test_data = pd.read_csv('test.csv')"
   ]
  },
  {
   "cell_type": "code",
   "execution_count": 10,
   "metadata": {
    "id": "jpqHfkK9mIPs"
   },
   "outputs": [],
   "source": [
    "# Preprocess\n",
    "string_columns = new_test_data.select_dtypes(include=['object']).columns\n",
    "\n",
    "# Encoding\n",
    "for column in string_columns:\n",
    "    unique_strings = new_test_data[column].unique()\n",
    "    string_to_index = {string: index for index, string in enumerate(unique_strings)}\n",
    "    new_test_data[column] = new_test_data[column].map(string_to_index)\n",
    "\n",
    "# Drop the same columns here to match (note no class because it is not included in the test data)\n",
    "X_new_test = new_test_data.drop(columns=['id', 'stem-root', 'has-ring', 'cap-shape', 'stem-surface',\n",
    "                                         'habitat', 'ring-type', 'season', 'veil-color',\n",
    "                                         'veil-type', 'spore-print-color'])"
   ]
  },
  {
   "cell_type": "code",
   "execution_count": 29,
   "metadata": {
    "id": "wxCvju0NmMeh"
   },
   "outputs": [],
   "source": [
    "# Normalization\n",
    "X_new_test = (X_new_test - x_train_mean) / x_train_std\n",
    "\n",
    "dnew_test = xgb.DMatrix(X_new_test)\n",
    "\n",
    "# Predictions on full test dataset\n",
    "new_test_predictions = bst.predict(dnew_test)\n",
    "new_test_binary_predictions = np.array(['p' if x > 0.5 else 'e' for x in new_test_predictions])"
   ]
  },
  {
   "cell_type": "code",
   "execution_count": null,
   "metadata": {
    "colab": {
     "base_uri": "https://localhost:8080/"
    },
    "id": "qx2C7gP9mOdE",
    "outputId": "e492a7af-e821-4689-f1a3-a84b4fc1b884"
   },
   "outputs": [
    {
     "name": "stdout",
     "output_type": "stream",
     "text": [
      "Predictions saved to test_predictions.csv\n"
     ]
    }
   ],
   "source": [
    "now = datetime.datetime.now()\n",
    "\n",
    "# Output results to CSV\n",
    "new_test_data['class'] = new_test_binary_predictions\n",
    "new_test_data[['id', 'class']].to_csv(f'Finaltest_predictions_{now.strftime(\"%m-%d_%H-%M-%S\")}.csv', index=False)\n",
    "print(\"Predictions saved to test_predictions_{timestamp}.csv\")"
   ]
  }
 ],
 "metadata": {
  "colab": {
   "provenance": []
  },
  "kernelspec": {
   "display_name": "base",
   "language": "python",
   "name": "python3"
  },
  "language_info": {
   "codemirror_mode": {
    "name": "ipython",
    "version": 3
   },
   "file_extension": ".py",
   "mimetype": "text/x-python",
   "name": "python",
   "nbconvert_exporter": "python",
   "pygments_lexer": "ipython3",
   "version": "3.11.7"
  }
 },
 "nbformat": 4,
 "nbformat_minor": 0
}
